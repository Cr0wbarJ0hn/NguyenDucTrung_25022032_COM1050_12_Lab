{
 "cells": [
  {
   "cell_type": "markdown",
   "id": "afaea9e6",
   "metadata": {},
   "source": [
    "W2A1"
   ]
  },
  {
   "cell_type": "code",
   "execution_count": 6,
   "id": "10b5927d",
   "metadata": {},
   "outputs": [
    {
     "name": "stdout",
     "output_type": "stream",
     "text": [
      "Hello World!\n"
     ]
    }
   ],
   "source": [
    "print(\"Hello World!\")"
   ]
  },
  {
   "cell_type": "markdown",
   "id": "6a142344",
   "metadata": {},
   "source": [
    "W2A2"
   ]
  },
  {
   "cell_type": "code",
   "execution_count": null,
   "id": "61e68b34",
   "metadata": {},
   "outputs": [
    {
     "name": "stdout",
     "output_type": "stream",
     "text": [
      "Hello, Nguyen Duc Trung\n"
     ]
    }
   ],
   "source": [
    "name = input(\"Enter your name: \")\n",
    "print(\"Hello, \" + name)"
   ]
  },
  {
   "cell_type": "markdown",
   "id": "09edcd47",
   "metadata": {},
   "source": [
    "W2A3"
   ]
  },
  {
   "cell_type": "code",
   "execution_count": 5,
   "id": "dbf5c198",
   "metadata": {},
   "outputs": [
    {
     "name": "stdout",
     "output_type": "stream",
     "text": [
      "1 + 2 = 3\n",
      "1 - 2 = -1\n",
      "1 * 2 = 2\n",
      "1 // 2 = 0\n",
      "1 % 2 = 1\n",
      "1 / 2 =  0.50\n"
     ]
    }
   ],
   "source": [
    "#Enter number from your keyboard\n",
    "a = int(input())\n",
    "b = int(input())\n",
    "#define mathematics\n",
    "tong = a + b\n",
    "hieu = a - b\n",
    "tich = a * b\n",
    "nguyen = a // b\n",
    "du = a % b\n",
    "thuc = a / b\n",
    "#print \n",
    "print(f\"{a} + {b} = {tong}\")\n",
    "print(f\"{a} - {b} = {hieu}\")\n",
    "print(f\"{a} * {b} = {tich}\")\n",
    "print(f\"{a} // {b} = {nguyen}\")\n",
    "print(f\"{a} % {b} = {du}\")\n",
    "print(f\"{a} / {b} = {thuc: .2f}\")\n",
    "\n",
    "\n"
   ]
  },
  {
   "cell_type": "markdown",
   "id": "a72d93fb",
   "metadata": {},
   "source": [
    "W2A4"
   ]
  },
  {
   "cell_type": "code",
   "execution_count": 1,
   "id": "9b0d0560",
   "metadata": {},
   "outputs": [
    {
     "name": "stdout",
     "output_type": "stream",
     "text": [
      "5.2\n"
     ]
    }
   ],
   "source": [
    "scores = input().split()\n",
    "a1, b1, c1, a2, b2, a3 = map(float, scores)\n",
    "#function\n",
    "TB = ((a1+ b1+ c1) + (a2 + b2) * 2 + a3 * 3) / 10\n",
    "print(f\"{TB:.1f}\")"
   ]
  },
  {
   "cell_type": "markdown",
   "id": "9062b557",
   "metadata": {},
   "source": [
    "W2A5"
   ]
  },
  {
   "cell_type": "code",
   "execution_count": 2,
   "id": "56d9fe33",
   "metadata": {},
   "outputs": [
    {
     "name": "stdout",
     "output_type": "stream",
     "text": [
      "8\n"
     ]
    }
   ],
   "source": [
    "a, b = map(int, input().split())\n",
    "luy_thua = a**b\n",
    "print(f\"{luy_thua}\")"
   ]
  },
  {
   "cell_type": "markdown",
   "id": "7b87ff36",
   "metadata": {},
   "source": [
    "W2A6"
   ]
  },
  {
   "cell_type": "code",
   "execution_count": 3,
   "id": "11e3cc25",
   "metadata": {},
   "outputs": [
    {
     "name": "stdout",
     "output_type": "stream",
     "text": [
      "The uppercase character is: A\n"
     ]
    }
   ],
   "source": [
    "c = input(\"Enter a character: \")\n",
    "if 'a' <= c <= 'z':\n",
    "    after = chr(ord(c) - 32)\n",
    "    print(\"The uppercase character is:\", after)\n",
    "else:\n",
    "    print(\"The character is not a lowercase letter.\")\n"
   ]
  },
  {
   "cell_type": "markdown",
   "id": "49c07b23",
   "metadata": {},
   "source": [
    "W2A7"
   ]
  },
  {
   "cell_type": "code",
   "execution_count": 4,
   "id": "f2622bb0",
   "metadata": {},
   "outputs": [
    {
     "name": "stdout",
     "output_type": "stream",
     "text": [
      "512\n",
      "512\n",
      "True\n"
     ]
    }
   ],
   "source": [
    "A = ((13 ** 2) * 3) + 5\n",
    "B = 13**2*3 + 5\n",
    "print(f\"{A}\")\n",
    "print(f\"{B}\")\n",
    "print(A == B)"
   ]
  },
  {
   "cell_type": "markdown",
   "id": "8351a532",
   "metadata": {},
   "source": [
    "W2A8"
   ]
  },
  {
   "cell_type": "code",
   "execution_count": 5,
   "id": "6ad73ec0",
   "metadata": {},
   "outputs": [
    {
     "name": "stdout",
     "output_type": "stream",
     "text": [
      " 53.60\n"
     ]
    }
   ],
   "source": [
    "C = float(input(\"Enter the temperature:\"))\n",
    "F = 9/5*C + 32\n",
    "print(f\"{F: .2f}\")"
   ]
  },
  {
   "cell_type": "markdown",
   "id": "f541fda8",
   "metadata": {},
   "source": [
    "W2A9"
   ]
  },
  {
   "cell_type": "code",
   "execution_count": 7,
   "id": "2c06b50c",
   "metadata": {},
   "outputs": [
    {
     "name": "stdout",
     "output_type": "stream",
     "text": [
      "Total price: $ 18.59\n"
     ]
    }
   ],
   "source": [
    "x = float(input(\"price (USD):\"))\n",
    "Total_fee = (x + 10) * 1.3 * 1.1\n",
    "print(f\"Total price: ${Total_fee: .2f}\")\n"
   ]
  },
  {
   "cell_type": "markdown",
   "id": "6d6cd97f",
   "metadata": {},
   "source": [
    "W2A10"
   ]
  },
  {
   "cell_type": "code",
   "execution_count": 8,
   "id": "9287ecac",
   "metadata": {},
   "outputs": [
    {
     "name": "stdout",
     "output_type": "stream",
     "text": [
      "Hi, ['Helen', 'Alice', 'Bob']\n"
     ]
    }
   ],
   "source": [
    "name = [\"Bob\", \"Alice\", \"Helen\"]\n",
    "name.reverse()\n",
    "print(f\"Hi, {name}\")"
   ]
  },
  {
   "cell_type": "markdown",
   "id": "ad35bc75",
   "metadata": {},
   "source": [
    "W2A11"
   ]
  },
  {
   "cell_type": "code",
   "execution_count": 9,
   "id": "9bbb69c2",
   "metadata": {},
   "outputs": [
    {
     "name": "stdout",
     "output_type": "stream",
     "text": [
      "Tổng số giây: 11040(s)\n"
     ]
    }
   ],
   "source": [
    "a = int(input(\"Nhập số giờ:\"))\n",
    "b = int(input(\"Nhập số phút:\"))\n",
    "Total = a * 3600 + b * 60 \n",
    "print(f\"Tổng số giây: {Total}(s)\")"
   ]
  },
  {
   "cell_type": "markdown",
   "id": "45f52d67",
   "metadata": {},
   "source": [
    "W2A12"
   ]
  },
  {
   "cell_type": "code",
   "execution_count": 10,
   "id": "85cc8d2f",
   "metadata": {},
   "outputs": [
    {
     "name": "stdout",
     "output_type": "stream",
     "text": [
      "Tổng số miếng dán: 18\n"
     ]
    }
   ],
   "source": [
    "n = int(input(\"Nhập độ dài cạnh rubik: \"))\n",
    "Total = n *6\n",
    "print(f\"Tổng số miếng dán: {Total}\")"
   ]
  },
  {
   "cell_type": "markdown",
   "id": "3bcf1b49",
   "metadata": {},
   "source": [
    "W2A13"
   ]
  },
  {
   "cell_type": "code",
   "execution_count": 11,
   "id": "21a5d792",
   "metadata": {},
   "outputs": [
    {
     "name": "stdout",
     "output_type": "stream",
     "text": [
      "2\n"
     ]
    }
   ],
   "source": [
    "x = int(input(\"First number: \"))\n",
    "y = int(input(\"Second number: \"))\n",
    "print(x * y % 10)"
   ]
  },
  {
   "cell_type": "markdown",
   "id": "b4941642",
   "metadata": {},
   "source": [
    "W2A14"
   ]
  },
  {
   "cell_type": "code",
   "execution_count": 12,
   "id": "af64d8dc",
   "metadata": {},
   "outputs": [
    {
     "name": "stdout",
     "output_type": "stream",
     "text": [
      "Before: 20 and 12 \n",
      "After: 12 and 20\n"
     ]
    }
   ],
   "source": [
    "a = 20\n",
    "b = 12\n",
    "print(f\"Before: {a} and {b} \")\n",
    "a, b = b, a\n",
    "print(f\"After: {a} and {b}\")"
   ]
  },
  {
   "cell_type": "markdown",
   "id": "6fc9482c",
   "metadata": {},
   "source": [
    "W2A15\n"
   ]
  },
  {
   "cell_type": "code",
   "execution_count": 13,
   "id": "f5b50869",
   "metadata": {},
   "outputs": [
    {
     "name": "stdout",
     "output_type": "stream",
     "text": [
      "Số sao thứ (n) là: 9\n",
      "\n",
      "Một số số sao đầu tiên:\n",
      "S(1) = 1\n",
      "S(2) = 4\n",
      "S(3) = 9\n"
     ]
    }
   ],
   "source": [
    "def star_number(n):\n",
    "    return n * n \n",
    "\n",
    "def main():\n",
    "    try:\n",
    "        n = int(input(\"Enter a positive integer: \"))\n",
    "        if n <= 0:\n",
    "            print(\"Please enter a positive integer.\")\n",
    "            return\n",
    "    except ValueError:\n",
    "        print(\"Invalid input. Please enter a valid positive integer.\")\n",
    "        return\n",
    "\n",
    "    result = star_number(n)\n",
    "    print(f\"Số sao thứ (n) là: {result}\")\n",
    "    print(\"\\nMột số số sao đầu tiên:\")\n",
    "    for i in range(1, min(n + 1, 11)):\n",
    "        print(f\"S({i}) = {star_number(i)}\")\n",
    "\n",
    "if __name__ == \"__main__\":\n",
    "    main()\n"
   ]
  },
  {
   "cell_type": "markdown",
   "id": "fe176af8",
   "metadata": {},
   "source": [
    "W2A16"
   ]
  },
  {
   "cell_type": "code",
   "execution_count": 14,
   "id": "0b4ff31f",
   "metadata": {},
   "outputs": [
    {
     "name": "stdout",
     "output_type": "stream",
     "text": [
      "Spring\n",
      "Summer\n",
      "Autumn\n",
      "Winter\n"
     ]
    }
   ],
   "source": [
    "seasons = [\"Spring\" ,\"Summer\", \"Autumn\", \"Winter\"]\n",
    "for season in seasons: \n",
    "    print(season)"
   ]
  },
  {
   "cell_type": "markdown",
   "id": "4742ff5c",
   "metadata": {},
   "source": [
    "W2A17"
   ]
  },
  {
   "cell_type": "code",
   "execution_count": 15,
   "id": "6dd589d9",
   "metadata": {},
   "outputs": [
    {
     "name": "stdout",
     "output_type": "stream",
     "text": [
      "  *  \n",
      " *** \n",
      "*****\n"
     ]
    }
   ],
   "source": [
    "print(\"  *  \")\n",
    "print(\" *** \")\n",
    "print(\"*****\")"
   ]
  },
  {
   "cell_type": "markdown",
   "id": "f8132754",
   "metadata": {},
   "source": [
    "W2A18"
   ]
  },
  {
   "cell_type": "code",
   "execution_count": 16,
   "id": "0d9bf41a",
   "metadata": {},
   "outputs": [
    {
     "name": "stdout",
     "output_type": "stream",
     "text": [
      "### ##   ### ###\n",
      " #  # #   #   #\n",
      " #  #  #  #   #\n",
      " #  #  #  #   #\n",
      " #  # #   #   #\n"
     ]
    }
   ],
   "source": [
    "# In ra dòng chữ \"TDTT\" với định dạng yêu cầu\n",
    "print(\"### ##   ### ###\")\n",
    "print(\" #  # #   #   #\")\n",
    "print(\" #  #  #  #   #\")\n",
    "print(\" #  #  #  #   #\")\n",
    "print(\" #  # #   #   #\")\n"
   ]
  },
  {
   "cell_type": "markdown",
   "id": "e3849714",
   "metadata": {},
   "source": [
    "W2A19"
   ]
  },
  {
   "cell_type": "code",
   "execution_count": 17,
   "id": "47e33300",
   "metadata": {},
   "outputs": [
    {
     "name": "stdout",
     "output_type": "stream",
     "text": [
      "Monday\n",
      "Tuesday\n",
      "Wednesday\n",
      "Thursday\n",
      "Friday\n",
      "Saturday\n",
      "Sunday\n"
     ]
    }
   ],
   "source": [
    "days =[\"Monday\", \"Tuesday\", \"Wednesday\", \"Thursday\", \"Friday\", \"Saturday\", \"Sunday\"]\n",
    "for day in days:\n",
    "    print(day)"
   ]
  },
  {
   "cell_type": "markdown",
   "id": "53ec8bfa",
   "metadata": {},
   "source": [
    "W2A20"
   ]
  },
  {
   "cell_type": "code",
   "execution_count": 18,
   "id": "0cbc2bff",
   "metadata": {},
   "outputs": [
    {
     "name": "stdout",
     "output_type": "stream",
     "text": [
      "January\n",
      "February\n",
      "March\n",
      "April\n",
      "May\n",
      "June\n",
      "July\n",
      "August\n",
      "September\n",
      "October\n",
      "November\n",
      "December\n"
     ]
    }
   ],
   "source": [
    "months =[\"January\", \"February\", \"March\", \"April\", \"May\", \"June\", \"July\", \"August\", \"September\", \"October\", \"November\", \"December\"]\n",
    "for month in months:\n",
    "    print(month)"
   ]
  },
  {
   "cell_type": "markdown",
   "id": "0b0486cc",
   "metadata": {},
   "source": [
    "W2A21"
   ]
  },
  {
   "cell_type": "code",
   "execution_count": 19,
   "id": "d3245ae6",
   "metadata": {},
   "outputs": [
    {
     "name": "stdout",
     "output_type": "stream",
     "text": [
      "Hello, world\n",
      "Hello, world\n",
      "Hello, world\n",
      "Hello, world\n",
      "Hello, world\n",
      "Hello, world\n",
      "Hello, world\n",
      "Hello, world\n",
      "Hello, world\n",
      "Hello, world\n"
     ]
    }
   ],
   "source": [
    "for i in range(10):\n",
    "    print(\"Hello, world\")"
   ]
  }
 ],
 "metadata": {
  "kernelspec": {
   "display_name": "Python 3",
   "language": "python",
   "name": "python3"
  },
  "language_info": {
   "codemirror_mode": {
    "name": "ipython",
    "version": 3
   },
   "file_extension": ".py",
   "mimetype": "text/x-python",
   "name": "python",
   "nbconvert_exporter": "python",
   "pygments_lexer": "ipython3",
   "version": "3.13.7"
  }
 },
 "nbformat": 4,
 "nbformat_minor": 5
}
