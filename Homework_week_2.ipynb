{
 "cells": [
  {
   "cell_type": "markdown",
   "metadata": {},
   "source": [
    "bai_1"
   ]
  },
  {
   "cell_type": "code",
   "execution_count": 1,
   "metadata": {},
   "outputs": [
    {
     "name": "stdout",
     "output_type": "stream",
     "text": [
      "The square of the number is: 9\n"
     ]
    }
   ],
   "source": [
    "a = int(input(\"Enter a number: \"))\n",
    "print(\"The square of the number is:\", a * a)"
   ]
  },
  {
   "cell_type": "markdown",
   "metadata": {},
   "source": [
    "bai_2"
   ]
  },
  {
   "cell_type": "code",
   "execution_count": 3,
   "metadata": {},
   "outputs": [
    {
     "name": "stdout",
     "output_type": "stream",
     "text": [
      "Length should be greater than or equal to width.\n"
     ]
    }
   ],
   "source": [
    "a = float(input(\"Enter length: \"))\n",
    "b = float(input(\"Enter width: \"))\n",
    "if a < b:\n",
    "    print(\"Length should be greater than or equal to width.\")\n",
    "else:\n",
    "    circle_area = 3.14 * (b / 2) ** 2\n",
    "    rectangle_area = a * b\n",
    "    print(f\"Area of the playground is: {rectangle_area - circle_area:.2f}\")\n"
   ]
  },
  {
   "cell_type": "markdown",
   "metadata": {},
   "source": [
    "bai_3"
   ]
  },
  {
   "cell_type": "code",
   "execution_count": 4,
   "metadata": {},
   "outputs": [
    {
     "name": "stdout",
     "output_type": "stream",
     "text": [
      "The uppercase character is: A\n"
     ]
    }
   ],
   "source": [
    "c = input(\"Enter a character: \")\n",
    "if 'A' <= c <= 'Z':\n",
    "    after = chr(ord(c) + 32)\n",
    "    print(\"The lowercase character is:\", after)\n",
    "else:\n",
    "    output = chr(ord(c) - 32)\n",
    "    print(\"The uppercase character is:\", output)\n"
   ]
  },
  {
   "cell_type": "markdown",
   "metadata": {},
   "source": [
    "bai_4"
   ]
  },
  {
   "cell_type": "code",
   "execution_count": 5,
   "metadata": {},
   "outputs": [
    {
     "name": "stdout",
     "output_type": "stream",
     "text": [
      "d is an alphabet\n"
     ]
    }
   ],
   "source": [
    "c = input(\"Enter a character: \")\n",
    "if 'A' <= c <= 'Z'or 'a' <= c <= 'z':\n",
    "    print(f\"{c} is an alphabet\")\n",
    "else:\n",
    "    print(f\"{c} is not an alphabet\")"
   ]
  },
  {
   "cell_type": "markdown",
   "metadata": {},
   "source": [
    "bai_5"
   ]
  },
  {
   "cell_type": "code",
   "execution_count": 11,
   "metadata": {},
   "outputs": [
    {
     "name": "stdout",
     "output_type": "stream",
     "text": [
      "Character is A or not an uppercase letter\n"
     ]
    }
   ],
   "source": [
    "c = str(input(\"Enter a character: \"))\n",
    "if c == 'A' or not 'B' <= c <= 'Z':\n",
    "    print(\"Character is A or not an uppercase letter\")\n",
    "elif 'B' <= c <= 'Z':\n",
    "    lower_case = chr(ord(c) + 31)\n",
    "    print(\"The previous lowercase letter is:\", lower_case)"
   ]
  },
  {
   "cell_type": "markdown",
   "metadata": {},
   "source": [
    "bai_6"
   ]
  },
  {
   "cell_type": "code",
   "execution_count": 12,
   "metadata": {},
   "outputs": [
    {
     "name": "stdout",
     "output_type": "stream",
     "text": [
      "The three lengths do not form a triangle\n"
     ]
    }
   ],
   "source": [
    "a, b, c = map(float, input(\"Enter three numbers: \").split())\n",
    "if a + b >c and b + c >a and c + a >b:\n",
    "    half_perimeter = (a + b + c) / 2\n",
    "    area = (half_perimeter * (half_perimeter - a) * (half_perimeter - b) * (half_perimeter - c)) ** 0.5\n",
    "    print(f\"The area of the triangle is:{area: .1f}\")\n",
    "else:\n",
    "    print(\"The three lengths do not form a triangle\")    "
   ]
  },
  {
   "cell_type": "markdown",
   "metadata": {},
   "source": [
    "bai_7"
   ]
  },
  {
   "cell_type": "code",
   "execution_count": 14,
   "metadata": {},
   "outputs": [
    {
     "name": "stdout",
     "output_type": "stream",
     "text": [
      "d and n\n"
     ]
    }
   ],
   "source": [
    "c = str(input(\"Enter string: \"))\n",
    "if len(c) >= 20:  \n",
    "    print(f\"{c[5]} and {c[9]}\")\n",
    "else:\n",
    "    print(\"Error\")"
   ]
  },
  {
   "cell_type": "markdown",
   "metadata": {},
   "source": [
    "bai_8"
   ]
  },
  {
   "cell_type": "code",
   "execution_count": 25,
   "metadata": {},
   "outputs": [
    {
     "name": "stdout",
     "output_type": "stream",
     "text": [
      "Nguyen Duc Trung\n",
      "Tiền điện phải trả tháng này là: 2892283.2\n"
     ]
    }
   ],
   "source": [
    "Ten_chu_ho = str(input(\"Nhập tên chủ hộ: \"))\n",
    "Chi_so_cu = float(input(\"Nhập chỉ số cũ: \"))\n",
    "Chi_so_moi = float(input(\"Nhập chỉ số mới: \"))\n",
    "if Chi_so_cu > Chi_so_moi:\n",
    "       print(\"Chỉ số mới phải lớn hơn chỉ số cũ\")\n",
    "else:\n",
    "    vat = 1.08\n",
    "    a = Chi_so_moi - Chi_so_cu               \n",
    "    if 0 <= a <= 50:\n",
    "        don_gia = 1984\n",
    "    elif 51 <= a <= 100:\n",
    "        don_gia = 2050\n",
    "    elif 101 <= a <= 200:\n",
    "        don_gia = 2380\n",
    "    elif 201 <= a <= 300:\n",
    "        don_gia = 2998\n",
    "    elif 301 <= a <= 400:\n",
    "        don_gia = 3350\n",
    "    elif a >= 401:\n",
    "        don_gia = 3460\n",
    "        print(Ten_chu_ho)\n",
    "        print(\"Tiền điện phải trả tháng này là:\" , a * don_gia * vat)"
   ]
  }
 ],
 "metadata": {
  "kernelspec": {
   "display_name": "Python 3",
   "language": "python",
   "name": "python3"
  },
  "language_info": {
   "codemirror_mode": {
    "name": "ipython",
    "version": 3
   },
   "file_extension": ".py",
   "mimetype": "text/x-python",
   "name": "python",
   "nbconvert_exporter": "python",
   "pygments_lexer": "ipython3",
   "version": "3.13.7"
  }
 },
 "nbformat": 4,
 "nbformat_minor": 2
}
