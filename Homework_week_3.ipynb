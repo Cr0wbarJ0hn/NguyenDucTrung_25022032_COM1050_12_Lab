{
 "cells": [
  {
   "cell_type": "markdown",
   "id": "786175b4",
   "metadata": {},
   "source": [
    "bai_1"
   ]
  },
  {
   "cell_type": "code",
   "execution_count": 1,
   "id": "288ce9c0",
   "metadata": {},
   "outputs": [
    {
     "name": "stdout",
     "output_type": "stream",
     "text": [
      "Reversed number is: 123\n"
     ]
    }
   ],
   "source": [
    "a = int(input(\"Enter a number: \"))\n",
    "reversed_number = str(a)[::-1]\n",
    "print(\"Reversed number is:\", reversed_number)"
   ]
  },
  {
   "cell_type": "markdown",
   "id": "47a8ed18",
   "metadata": {},
   "source": [
    "bai_2"
   ]
  },
  {
   "cell_type": "code",
   "execution_count": 3,
   "id": "2e99f441",
   "metadata": {},
   "outputs": [
    {
     "name": "stdout",
     "output_type": "stream",
     "text": [
      "After swapping: x = 4 , y = 3\n"
     ]
    }
   ],
   "source": [
    "x = int(input(\"Enter a number: \"))\n",
    "y = int(input(\"Enter another number: \"))\n",
    "x = x ^ y\n",
    "y = x ^ y\n",
    "x = x ^ y\n",
    "print(\"After swapping: x =\", x, \", y =\", y) "
   ]
  },
  {
   "cell_type": "markdown",
   "id": "27b76e3a",
   "metadata": {},
   "source": [
    "bai_3"
   ]
  },
  {
   "cell_type": "code",
   "execution_count": 2,
   "id": "92e97152",
   "metadata": {},
   "outputs": [
    {
     "name": "stdout",
     "output_type": "stream",
     "text": [
      "3 is not a power of two.\n"
     ]
    }
   ],
   "source": [
    "x = int(input(\"Enter a number: \"))\n",
    "if x & (x - 1) == 0 and x != 0:\n",
    "    print(f\"{x} is a power of two.\")\n",
    "else:\n",
    "    print(f\"{x} is not a power of two.\")"
   ]
  },
  {
   "cell_type": "markdown",
   "id": "e37d58fc",
   "metadata": {},
   "source": [
    "bai_4"
   ]
  },
  {
   "cell_type": "code",
   "execution_count": null,
   "id": "af12481a",
   "metadata": {},
   "outputs": [
    {
     "name": "stdout",
     "output_type": "stream",
     "text": [
      "Quotient is: 1.0\n"
     ]
    }
   ],
   "source": [
    "x = float(input(\"Enter dividend: \"))\n",
    "y = float(input(\"Enter divisor: \"))\n",
    "quotient = x // y\n",
    "print(\"Quotient is:\", quotient)"
   ]
  },
  {
   "cell_type": "markdown",
   "id": "f40ebf86",
   "metadata": {},
   "source": [
    "bai_5"
   ]
  },
  {
   "cell_type": "code",
   "execution_count": 8,
   "id": "940589a0",
   "metadata": {},
   "outputs": [
    {
     "name": "stdout",
     "output_type": "stream",
     "text": [
      "The quotient after rounding up is: 52\n"
     ]
    }
   ],
   "source": [
    "x = float(input(\"Enter dividend: \"))\n",
    "y = float(input(\"Enter divisor: \"))\n",
    "quotient = x / y + 0.5\n",
    "print(\"The quotient after rounding up is:\", round(quotient))"
   ]
  },
  {
   "cell_type": "markdown",
   "id": "3b13074a",
   "metadata": {},
   "source": [
    "bai_6"
   ]
  },
  {
   "cell_type": "code",
   "execution_count": 13,
   "id": "cdd77858",
   "metadata": {},
   "outputs": [
    {
     "name": "stdout",
     "output_type": "stream",
     "text": [
      "3 is an odd number.\n"
     ]
    }
   ],
   "source": [
    "x = int(input(\"Enter a number: \"))\n",
    "if x <= 0:\n",
    "    print(\"Not a positive interger\")\n",
    "else:\n",
    "    if x % 2 == 0:\n",
    "        print(f\"{x} is an even number.\")\n",
    "    else:\n",
    "        print(f\"{x} is an odd number.\")\n"
   ]
  },
  {
   "cell_type": "markdown",
   "id": "83d446d7",
   "metadata": {},
   "source": [
    "bai_7"
   ]
  },
  {
   "cell_type": "code",
   "execution_count": 17,
   "id": "23549b87",
   "metadata": {},
   "outputs": [
    {
     "name": "stdout",
     "output_type": "stream",
     "text": [
      "No.\n"
     ]
    }
   ],
   "source": [
    "a , b = map(int, input(\"Enter two numbers: \").split())\n",
    "if a < 0:\n",
    "    if b < 0:\n",
    "        print(\"Yes.\")\n",
    "    else:\n",
    "        print(\"No.\")\n",
    "else:\n",
    "    print(\"No.\")"
   ]
  },
  {
   "cell_type": "markdown",
   "id": "680265b8",
   "metadata": {},
   "source": [
    "bai_8"
   ]
  },
  {
   "cell_type": "code",
   "execution_count": 18,
   "id": "7cf96ac9",
   "metadata": {},
   "outputs": [
    {
     "name": "stdout",
     "output_type": "stream",
     "text": [
      "False\n"
     ]
    }
   ],
   "source": [
    "a = str(input(\"Enter a string: \"))\n",
    "b = str(input(\"Enter another string: \"))\n",
    "x = a.islower()\n",
    "y = b.islower()\n",
    "if x and b:\n",
    "    if len(a) > len(b):\n",
    "        print(True)\n",
    "    else:\n",
    "        print(False)\n",
    "else:\n",
    "    print(\"Error: Both strings must be in lowercase.\") "
   ]
  },
  {
   "cell_type": "markdown",
   "id": "0a62e3f6",
   "metadata": {},
   "source": [
    "bai_9"
   ]
  },
  {
   "cell_type": "code",
   "execution_count": 20,
   "id": "18454c36",
   "metadata": {},
   "outputs": [
    {
     "name": "stdout",
     "output_type": "stream",
     "text": [
      "No.\n"
     ]
    }
   ],
   "source": [
    "a , b , c = map(float, input(\"Enter three lengths: \").split())\n",
    "if a and b and c < 0:\n",
    "    print(\"Error: Lengths must be positive.\")\n",
    "else:\n",
    "    if a + b > c and a + c > b and b + c > a:\n",
    "        print(\"Yes.\")\n",
    "    else:\n",
    "        print(\"No.\")"
   ]
  },
  {
   "cell_type": "markdown",
   "id": "ece3ec6b",
   "metadata": {},
   "source": [
    "bai_10"
   ]
  },
  {
   "cell_type": "code",
   "execution_count": 21,
   "id": "07067704",
   "metadata": {},
   "outputs": [
    {
     "name": "stdout",
     "output_type": "stream",
     "text": [
      "The largest number is: 3333\n"
     ]
    }
   ],
   "source": [
    "a , b , c , d = map(int, input(\"Enter four lengths: \").split())\n",
    "list = [a, b, c, d]\n",
    "print(\"The largest number is:\", max(list))"
   ]
  },
  {
   "cell_type": "markdown",
   "id": "e047f7bf",
   "metadata": {},
   "source": [
    "bai_11"
   ]
  },
  {
   "cell_type": "code",
   "execution_count": 23,
   "id": "029bba53",
   "metadata": {},
   "outputs": [
    {
     "name": "stdout",
     "output_type": "stream",
     "text": [
      "Equilateral triangle.\n"
     ]
    }
   ],
   "source": [
    "a , b , c = map(float, input(\"Enter three lengths: \").split())\n",
    "if a and b and c < 0:\n",
    "    print(\"Error: Lengths must be positive.\")\n",
    "else:\n",
    "    if a + b > c and a + c > b and b + c > a:\n",
    "        if a == b == c:\n",
    "            print(\"Equilateral triangle.\")\n",
    "        elif a == b or b == c or a == c:\n",
    "            print(\"Isosceles triangle.\")\n",
    "        else:\n",
    "            print(\"Scalene triangle.\")\n",
    "    else:\n",
    "        print(\"Not a triangle.\")"
   ]
  },
  {
   "cell_type": "markdown",
   "id": "6a425734",
   "metadata": {},
   "source": [
    "bai_12"
   ]
  },
  {
   "cell_type": "code",
   "execution_count": 27,
   "id": "99d5bb75",
   "metadata": {},
   "outputs": [
    {
     "name": "stdout",
     "output_type": "stream",
     "text": [
      "Yes.\n"
     ]
    }
   ],
   "source": [
    "a = int(input(\"Enter a year: \"))\n",
    "if (a % 4 == 0 and a % 100 != 0) or (a % 400 == 0):\n",
    "    print(\"Yes.\")\n",
    "else:\n",
    "    print(\"No\")"
   ]
  },
  {
   "cell_type": "markdown",
   "id": "86cf6050",
   "metadata": {},
   "source": [
    "bai_13"
   ]
  },
  {
   "cell_type": "code",
   "execution_count": 33,
   "id": "08114893",
   "metadata": {},
   "outputs": [
    {
     "name": "stdout",
     "output_type": "stream",
     "text": [
      "Tiền điện phải trả tháng này là: 303000\n"
     ]
    }
   ],
   "source": [
    "a = int(input(\"Nhập số điện: \"))\n",
    "if a < 0:\n",
    "       print(\"Error: Số điện không hợp lệ.\")\n",
    "else:               \n",
    "    if 0 <= a <= 50:\n",
    "        don_gia = 1500\n",
    "    elif 51 <= a <= 100:\n",
    "        don_gia = 2000\n",
    "    elif 100 <= a:\n",
    "        don_gia = 3000\n",
    "    print(\"Tiền điện phải trả tháng này là:\" , a * don_gia)"
   ]
  },
  {
   "cell_type": "markdown",
   "id": "26957c80",
   "metadata": {},
   "source": [
    "bai_14"
   ]
  },
  {
   "cell_type": "code",
   "execution_count": 37,
   "id": "dbc46216",
   "metadata": {},
   "outputs": [
    {
     "name": "stdout",
     "output_type": "stream",
     "text": [
      "The solution is:, -1.50\n"
     ]
    }
   ],
   "source": [
    "a = float(input(\"Enter a number: \"))\n",
    "b = float(input(\"Enter another number: \"))\n",
    "if a == 0:\n",
    "    if b == 0:\n",
    "        print(\"Infinite solutions.\")\n",
    "    else:\n",
    "        print(\"No solution.\")\n",
    "else:\n",
    "    x = -b / a\n",
    "    print(f\"The solution is:, {x: .2f}\")"
   ]
  },
  {
   "cell_type": "markdown",
   "id": "fbb1f460",
   "metadata": {},
   "source": [
    "bai_15"
   ]
  },
  {
   "cell_type": "code",
   "execution_count": 45,
   "id": "258adb92",
   "metadata": {},
   "outputs": [
    {
     "name": "stdout",
     "output_type": "stream",
     "text": [
      "Khá\n"
     ]
    }
   ],
   "source": [
    "a = float(input(\"Enter GPA: \"))\n",
    "if a >= 8.0:\n",
    "    print(\"Giỏi\")\n",
    "elif 6.5 <= a < 8.0:\n",
    "    print(\"Khá\")\n",
    "elif 5.0 <= a < 6.5:\n",
    "    print(\"Trung bình\")\n",
    "else:\n",
    "    print(\"Yếu\")\n"
   ]
  },
  {
   "cell_type": "markdown",
   "id": "277d5a19",
   "metadata": {},
   "source": [
    "bai_16"
   ]
  },
  {
   "cell_type": "code",
   "execution_count": null,
   "id": "9cc30b24",
   "metadata": {},
   "outputs": [
    {
     "name": "stdout",
     "output_type": "stream",
     "text": [
      "The number rounded up is: 4\n",
      "The number rounded down is: 3\n",
      "The interger part of the number is: 4\n"
     ]
    }
   ],
   "source": [
    "x = float(input(\"Enter a number: \"))\n",
    "rounded_up = (x + 1)//1\n",
    "print(\"The number rounded up is:\", int(rounded_up))\n",
    "rounded_down = x//1\n",
    "print(\"The number rounded down is:\", int(rounded_down))\n",
    "closest_interger_part = (x + 0.5)//1\n",
    "print(\"The closest interger part of the number is:\", int(closest_interger_part))"
   ]
  },
  {
   "cell_type": "markdown",
   "id": "df3261c3",
   "metadata": {},
   "source": [
    "bai_17"
   ]
  },
  {
   "cell_type": "code",
   "execution_count": 48,
   "id": "1b32e56c",
   "metadata": {},
   "outputs": [
    {
     "name": "stdout",
     "output_type": "stream",
     "text": [
      "Scalene triangle.\n"
     ]
    }
   ],
   "source": [
    "a , b , c = map(float, input(\"Enter three lengths: \").split())\n",
    "if a and b and c < 0:\n",
    "    print(\"Error: Lengths must be positive.\")\n",
    "else:\n",
    "    if a + b > c and a + c > b and b + c > a:\n",
    "        if a == b == c:\n",
    "            print(\"Equilateral triangle.\")\n",
    "        elif a == b or b == c or a == c:\n",
    "            print(\"Isosceles triangle.\")\n",
    "        else:\n",
    "            print(\"Scalene triangle.\")\n",
    "    else:\n",
    "        print(\"Not a triangle.\")"
   ]
  }
 ],
 "metadata": {
  "kernelspec": {
   "display_name": "Python 3",
   "language": "python",
   "name": "python3"
  },
  "language_info": {
   "codemirror_mode": {
    "name": "ipython",
    "version": 3
   },
   "file_extension": ".py",
   "mimetype": "text/x-python",
   "name": "python",
   "nbconvert_exporter": "python",
   "pygments_lexer": "ipython3",
   "version": "3.13.7"
  }
 },
 "nbformat": 4,
 "nbformat_minor": 5
}
